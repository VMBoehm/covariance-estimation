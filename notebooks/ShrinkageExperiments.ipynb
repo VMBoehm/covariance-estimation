{
 "cells": [
  {
   "cell_type": "code",
   "execution_count": 1,
   "metadata": {},
   "outputs": [],
   "source": [
    "import sys\n",
    "sys.path.append('../bin/')\n",
    "from load_data import *\n",
    "import matplotlib.pyplot as plt\n",
    "from classification import *\n",
    "import time"
   ]
  },
  {
   "cell_type": "code",
   "execution_count": 2,
   "metadata": {},
   "outputs": [],
   "source": [
    "input_data = 'mnist'\n",
    "num_classes= 10\n",
    "DATA_SHAPE = 28*28"
   ]
  },
  {
   "cell_type": "code",
   "execution_count": 3,
   "metadata": {},
   "outputs": [],
   "source": [
    "if input_data == 'mnist':\n",
    "    load_data = load_mnist\n",
    "if input_data == 'cifar10':\n",
    "    load_data = load_cifar10"
   ]
  },
  {
   "cell_type": "code",
   "execution_count": 4,
   "metadata": {},
   "outputs": [],
   "source": [
    "x_train, targets_train, x_test, targets_test = load_data()"
   ]
  },
  {
   "cell_type": "code",
   "execution_count": 5,
   "metadata": {},
   "outputs": [],
   "source": [
    "def make_plots(x, input_type):\n",
    "\n",
    "    num = np.int(np.floor(np.sqrt(len(x))))\n",
    "    if num > 8:\n",
    "        num = 8\n",
    "    if input_type=='mnist':\n",
    "        fig, axes = plt.subplots(num,num,figsize=(num,num))\n",
    "        plt.set_cmap('gray')\n",
    "        k =0\n",
    "        for j in range(num):\n",
    "            for i in range(num):\n",
    "                k+=1\n",
    "                axes[i][j].imshow(x[k].reshape(28,28))\n",
    "                axes[i][j].axis('off')\n",
    "        \n",
    "        plt.show()\n",
    "        \n",
    "    elif input_type=='cifar10':\n",
    "        fig, axes = plt.subplots(num,num,figsize=(num,num))\n",
    "        k =0\n",
    "        for j in range(num):\n",
    "            for i in range(num):\n",
    "                k+=1\n",
    "                img = np.swapaxes(np.reshape((x[k]),(32,32,3),'F'),0,1)\n",
    "                axes[i][j].imshow(img, interpolation='bilinear')\n",
    "                axes[i][j].axis('off')\n",
    "        plt.show()\n",
    "    return True\n"
   ]
  },
  {
   "cell_type": "code",
   "execution_count": 10,
   "metadata": {},
   "outputs": [],
   "source": [
    "from sklearn.covariance import LedoitWolf, EmpiricalCovariance, OAS\n",
    "import scipy.linalg as lg\n",
    "import numpy.linalg as nlg\n",
    "from sklearn.decomposition import PCA\n",
    "\n",
    "def get_covariance(R,var,num):\n",
    "    '''\n",
    "    get covarinace estimation for specific number of components\n",
    "    num: number of components\n",
    "    R: matrix of eigenvectors\n",
    "    var: array of eigenvalues\n",
    "    '''\n",
    "    fl   = len(var)\n",
    "    var_ = var[0:num]\n",
    "    R    = R[0:num]\n",
    "    \n",
    "    if num<fl:\n",
    "        sigma2 = np.mean(var[num::])\n",
    "    else: \n",
    "        sigma2 = 0.\n",
    "\n",
    "    C_            = np.dot(R.T,np.dot(np.diag(var_), R))+np.eye(len(R.T))*sigma2\n",
    "    Cinv          = lg.inv(C_)\n",
    "    sign ,logdetC = nlg.slogdet(C_)\n",
    "    \n",
    "    return Cinv, logdetC\n",
    "\n",
    "\n",
    "class CovarianceEstimator():\n",
    "\n",
    "    def __init__(self,mode, label, masking):\n",
    "        \n",
    "        assert(mode in ['ML','OAS', 'LW','NERCOME'])\n",
    "        self.mode   = mode\n",
    "        self.label  = label\n",
    "        self.masking= masking\n",
    "    \n",
    "    def diag_decomp(self):\n",
    "        var,R     = lg.eigh(self.cov)\n",
    "        indices   = np.argsort(var)[::-1]\n",
    "        self.vars = var[indices]\n",
    "        self.R    = R.T[indices]\n",
    "        return self.vars, self.R\n",
    "    \n",
    "    def pca(self,data):\n",
    "        \n",
    "        num       = data.shape[1]\n",
    "        pca       = PCA(svd_solver='full',n_components=num)\n",
    "        pca.fit(data)\n",
    "        self.pca_vars= pca.explained_variance_\n",
    "        self.pca_R   = pca.components_\n",
    "        \n",
    "\n",
    "    def fit(self,data, mask_in, mask_out):\n",
    "        \n",
    "        if len(mask_in)==data.shape[1]:\n",
    "            self.masking = False\n",
    "            print('no zero variance pixels in data')\n",
    "        \n",
    "        if self.masking:\n",
    "            data = data[:, mask_in]\n",
    "        else:\n",
    "            data[:,mask_out] = 0.01\n",
    "        \n",
    "        if self.mode =='ML':\n",
    "            self.cov = EmpiricalCovariance().fit(data).covariance_\n",
    "        elif self.mode =='OAS':\n",
    "            self.cov = OAS().fit(data).covariance_\n",
    "        elif self.mode =='LW':\n",
    "            self.cov = LW().fit(data).covariance_\n",
    "        elif mode == 'NERCOME':\n",
    "            pass\n",
    "        else: \n",
    "            raise ValueError\n",
    "        \n",
    "        if not self.masking:\n",
    "            self.cov[mask_out,:] =0.\n",
    "            self.cov[:,mask_out] =0.\n",
    "            self.cov[mask_out,mask_out] = 1e-4\n",
    "            \n",
    "        self.mask_in = mask_in\n",
    "        self.mask_out= mask_out\n",
    "        self.mean = np.mean(data, axis=0)\n",
    "\n",
    "        return True\n",
    "    \n",
    "    def compute_logdet(self):\n",
    "        sign ,self.logdetC = nlg.slogdet(self.cov)\n",
    "        return True\n",
    "    \n",
    "    def compute_inverse(self):\n",
    "        self.Cinv = lg.inv(self.cov)\n",
    "        return True\n",
    "    \n",
    "    def save(self, path):\n",
    "        if not os.path.exists(path):\n",
    "            os.makedirs(path)\n",
    "        if self.masking:\n",
    "            self.filename = os.path.join(path,'cov_estimate_%s_%d_masked.pkl'%(self.mode,self.label))\n",
    "        else:   \n",
    "            self.filename = os.path.join(path,'cov_estimate_%s_%d.pkl'%(self.mode,self.label))\n",
    "        \n",
    "        pkl.dump(self, open(self.filename,'wb'))\n",
    "        \n",
    "        return self.filename"
   ]
  },
  {
   "cell_type": "code",
   "execution_count": 11,
   "metadata": {},
   "outputs": [],
   "source": [
    "def prepare_data(data, labels, num_classes):\n",
    "    '''\n",
    "    orderes data by labels and identifies zero variance pixels\n",
    "    '''\n",
    "    ordered_data = []\n",
    "    masks_in     = []\n",
    "    masks_out    = []\n",
    "    for ii in range(num_classes):\n",
    "        ind     = np.where(labels==ii)[0]\n",
    "        d       = data[ind]\n",
    "        mask_in = np.where(np.var(d, axis=0)>0.)[0]\n",
    "        ordered_data+=[d]\n",
    "        mask_out= np.where(np.var(d, axis=0)==0.)[0]\n",
    "        masks_in+=[mask_in]\n",
    "        masks_out+=[mask_out]\n",
    "    \n",
    "    return ordered_data, masks_in, masks_out"
   ]
  },
  {
   "cell_type": "code",
   "execution_count": 12,
   "metadata": {},
   "outputs": [],
   "source": [
    "d_v, mv_in, mv_out = prepare_data(data=x_train,labels=targets_train, num_classes=num_classes)\n",
    "d_t, mt_in, mt_out = prepare_data(data=x_test,labels=targets_test, num_classes=num_classes)"
   ]
  },
  {
   "cell_type": "code",
   "execution_count": 13,
   "metadata": {},
   "outputs": [
    {
     "name": "stdout",
     "output_type": "stream",
     "text": [
      "../outputs/mnist/covariance_estimator/cov_estimate_ML_0.pkl\n",
      "../outputs/mnist/covariance_estimator/cov_estimate_ML_1.pkl\n",
      "../outputs/mnist/covariance_estimator/cov_estimate_ML_2.pkl\n",
      "../outputs/mnist/covariance_estimator/cov_estimate_ML_3.pkl\n",
      "../outputs/mnist/covariance_estimator/cov_estimate_ML_4.pkl\n",
      "../outputs/mnist/covariance_estimator/cov_estimate_ML_5.pkl\n",
      "../outputs/mnist/covariance_estimator/cov_estimate_ML_6.pkl\n",
      "../outputs/mnist/covariance_estimator/cov_estimate_ML_7.pkl\n",
      "../outputs/mnist/covariance_estimator/cov_estimate_ML_8.pkl\n",
      "../outputs/mnist/covariance_estimator/cov_estimate_ML_9.pkl\n"
     ]
    }
   ],
   "source": [
    "covs = []\n",
    "for ii, d in enumerate(d_v):\n",
    "    cov = CovarianceEstimator(mode='ML',label=ii,masking=False)\n",
    "    cov.fit(d,mv_in[ii],mv_out[ii])\n",
    "    cov.diag_decomp()\n",
    "#     cov.compute_logdet()\n",
    "#     cov.compute_inverse()\n",
    "    filename = cov.save('../outputs/%s/covariance_estimator/'%input_data)\n",
    "    print(filename)\n",
    "    covs+=[cov]"
   ]
  },
  {
   "cell_type": "code",
   "execution_count": 14,
   "metadata": {},
   "outputs": [],
   "source": [
    "def get_log_prob(logdet,Cinv,data,mean):\n",
    "    d    = len(data)\n",
    "    data = data-mean\n",
    "    Cinv_d = np.einsum('jk,...k->...j',Cinv,data, optimize=True)\n",
    "    logprob = -0.5*logdet-0.5*d*np.log((2*np.pi))-0.5*np.einsum('ij,ij->i',data, Cinv_d, optimize=True)\n",
    "    return logprob"
   ]
  },
  {
   "cell_type": "code",
   "execution_count": 16,
   "metadata": {},
   "outputs": [],
   "source": [
    "def classify(data,labels,covs, num_classes, num):\n",
    "    acc = []\n",
    "    for jj in range(num_classes):\n",
    "        print(jj)\n",
    "        indices = np.where(labels==jj)[0]\n",
    "        dd      = data[indices]\n",
    "        logprob=[]\n",
    "        for ii,cov in enumerate(covs):\n",
    "            if num == dd.shape[1]:\n",
    "                Cinv    = cov.Cinv\n",
    "                logdetC = cov.logdetC\n",
    "            else:\n",
    "                Cinv, logdetC = get_covariance(cov.R,cov.vars,num)\n",
    "            if cov.masking:\n",
    "                d_      = dd[:,cov.mask_in]\n",
    "            else:\n",
    "                d_      = np.ones_like(dd)*0.01\n",
    "                d_[:,cov.mask_in] = dd[:,cov.mask_in]\n",
    "            logprob_= get_log_prob(logdetC,Cinv,d_,cov.mean)\n",
    "            logprob+=[logprob_]\n",
    "        acc+=[len(np.where(np.argsort(np.asarray(logprob),axis=0)[-1]==jj)[0])/len(dd)]\n",
    "    return np.asarray(acc)"
   ]
  },
  {
   "cell_type": "code",
   "execution_count": 17,
   "metadata": {},
   "outputs": [
    {
     "name": "stdout",
     "output_type": "stream",
     "text": [
      "0\n",
      "1\n",
      "2\n",
      "3\n",
      "4\n",
      "5\n",
      "6\n",
      "7\n",
      "8\n",
      "9\n"
     ]
    }
   ],
   "source": [
    "\n",
    "accuracy = classify(x_test,targets_test,covs, num_classes, num=200)"
   ]
  },
  {
   "cell_type": "code",
   "execution_count": 154,
   "metadata": {},
   "outputs": [
    {
     "data": {
      "text/plain": [
       "(array([ 0.97142857,  0.91982379,  0.93895349,  0.9039604 ,  0.92464358,\n",
       "         0.85650224,  0.93110647,  0.8540856 ,  0.9137577 ,  0.89494549]),\n",
       " array([ 0.96122449,  0.91894273,  0.97868217,  0.92178218,  0.95723014,\n",
       "         0.90919283,  0.91858038,  0.92898833,  0.82340862,  0.76808722]))"
      ]
     },
     "execution_count": 154,
     "metadata": {},
     "output_type": "execute_result"
    }
   ],
   "source": []
  },
  {
   "cell_type": "code",
   "execution_count": 18,
   "metadata": {},
   "outputs": [
    {
     "name": "stdout",
     "output_type": "stream",
     "text": [
      "[ 0.97142857  0.91982379  0.93895349  0.9039604   0.92464358  0.85650224\n",
      "  0.93110647  0.8540856   0.9137577   0.89494549]\n"
     ]
    }
   ],
   "source": [
    "print(accuracy)"
   ]
  },
  {
   "cell_type": "code",
   "execution_count": null,
   "metadata": {},
   "outputs": [],
   "source": []
  }
 ],
 "metadata": {
  "kernelspec": {
   "display_name": "nersc",
   "language": "python",
   "name": "nersc-jupyterhub"
  },
  "language_info": {
   "codemirror_mode": {
    "name": "ipython",
    "version": 3
   },
   "file_extension": ".py",
   "mimetype": "text/x-python",
   "name": "python",
   "nbconvert_exporter": "python",
   "pygments_lexer": "ipython3",
   "version": "3.5.4"
  }
 },
 "nbformat": 4,
 "nbformat_minor": 2
}
