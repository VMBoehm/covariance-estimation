{
 "cells": [
  {
   "cell_type": "code",
   "execution_count": 1,
   "metadata": {},
   "outputs": [],
   "source": [
    "import sys\n",
    "sys.path.append('../bin/')\n",
    "from load_data import *\n",
    "import matplotlib.pyplot as plt\n",
    "from classification import *\n",
    "import time"
   ]
  },
  {
   "cell_type": "code",
   "execution_count": 2,
   "metadata": {},
   "outputs": [],
   "source": [
    "input_data = 'mnist'\n",
    "num_classes= 10\n",
    "DATA_SHAPE = 28*28"
   ]
  },
  {
   "cell_type": "code",
   "execution_count": 3,
   "metadata": {},
   "outputs": [],
   "source": [
    "if input_data == 'mnist':\n",
    "    load_data = load_mnist\n",
    "if input_data == 'cifar10':\n",
    "    load_data = load_cifar10"
   ]
  },
  {
   "cell_type": "code",
   "execution_count": 4,
   "metadata": {},
   "outputs": [],
   "source": [
    "x_train, targets_train, x_test, targets_test = load_data()"
   ]
  },
  {
   "cell_type": "code",
   "execution_count": 5,
   "metadata": {},
   "outputs": [],
   "source": [
    "def make_plots(x, input_type):\n",
    "\n",
    "    num = np.int(np.floor(np.sqrt(len(x))))\n",
    "    if num > 8:\n",
    "        num = 8\n",
    "    if input_type=='mnist':\n",
    "        fig, axes = plt.subplots(num,num,figsize=(num,num))\n",
    "        plt.set_cmap('gray')\n",
    "        k =0\n",
    "        for j in range(num):\n",
    "            for i in range(num):\n",
    "                k+=1\n",
    "                axes[i][j].imshow(x[k].reshape(28,28))\n",
    "                axes[i][j].axis('off')\n",
    "        \n",
    "        plt.show()\n",
    "        \n",
    "    elif input_type=='cifar10':\n",
    "        fig, axes = plt.subplots(num,num,figsize=(num,num))\n",
    "        k =0\n",
    "        for j in range(num):\n",
    "            for i in range(num):\n",
    "                k+=1\n",
    "                img = np.swapaxes(np.reshape((x[k]),(32,32,3),'F'),0,1)\n",
    "                axes[i][j].imshow(img, interpolation='bilinear')\n",
    "                axes[i][j].axis('off')\n",
    "        plt.show()\n",
    "    return True\n"
   ]
  },
  {
   "cell_type": "code",
   "execution_count": 116,
   "metadata": {},
   "outputs": [],
   "source": [
    "from sklearn.covariance import LedoitWolf, EmpiricalCovariance, OAS\n",
    "import scipy.linalg as lg\n",
    "import numpy.linalg as nlg\n",
    "from sklearn.decomposition import PCA\n",
    "\n",
    "def get_covariance(R,var,num):\n",
    "    '''\n",
    "    get covarinace estimation for specific number of components\n",
    "    num: number of components\n",
    "    R: matrix of eigenvectors\n",
    "    var: array of eigenvalues\n",
    "    '''\n",
    "    fl   = len(var)\n",
    "    var_ = var[0:num]\n",
    "    R    = R[0:num]\n",
    "    \n",
    "    if num<fl:\n",
    "        sigma2 = np.mean(var[num::])\n",
    "    else: \n",
    "        sigma2 = 0.\n",
    "\n",
    "    C_            = np.dot(R.T,np.dot(np.diag(var_), R))+np.eye(len(R.T))*sigma2\n",
    "    Cinv          = lg.inv(C_)\n",
    "    sign ,logdetC = nlg.slogdet(C_)\n",
    "    \n",
    "    return Cinv, logdetC\n",
    "\n",
    "\n",
    "class CovarianceEstimator():\n",
    "\n",
    "    def __init__(self,mode, label):\n",
    "        \n",
    "        assert(mode in ['ML','OAS', 'LW','NERCOME'])\n",
    "        self.mode = mode\n",
    "        self.label= label\n",
    "    \n",
    "    def diag_decomp(self):\n",
    "        var,R     = lg.eigh(self.cov)\n",
    "        indices   = np.argsort(var)[::-1]\n",
    "        self.vars = var[indices]\n",
    "        self.R    = R.T[indices]\n",
    "        return self.vars, self.R\n",
    "    \n",
    "    def pca(self,data):\n",
    "        \n",
    "        num       = data.shape[1]\n",
    "        pca       = PCA(svd_solver='full',n_components=num)\n",
    "        pca.fit(data)\n",
    "        self.pca_vars= pca.explained_variance_\n",
    "        self.pca_R   = pca.components_\n",
    "        \n",
    "\n",
    "    def fit(self,data, mask):\n",
    "\n",
    "        if self.mode =='ML':\n",
    "            self.cov = EmpiricalCovariance().fit(data).covariance_\n",
    "        elif self.mode =='OAS':\n",
    "            self.cov = OAS().fit(data).covariance_\n",
    "        elif self.mode =='LW':\n",
    "            self.cov = LW().fit(data).covariance_\n",
    "        elif mode == 'NERCOME':\n",
    "            pass\n",
    "        else: \n",
    "            raise ValueError\n",
    "        self.mask = mask\n",
    "        self.mean = np.mean(data, axis=0)\n",
    "\n",
    "        return True\n",
    "    \n",
    "    def compute_logdet(self):\n",
    "        sign ,self.logdetC = nlg.slogdet(C_)\n",
    "        return True\n",
    "    \n",
    "    def compute_inverse(self):\n",
    "        self.Cinv = lg.inv(C_)\n",
    "        return True\n",
    "    \n",
    "    def save(self, path):\n",
    "        if not os.path.exists(path):\n",
    "            os.makedirs(path)\n",
    "        self.filename = os.path.join(path,'cov_estimate_%s_%d.pkl'%(self.mode,self.label))\n",
    "        \n",
    "        pkl.dump(self, open(self.filename,'wb'))\n",
    "        \n",
    "        return self.filename"
   ]
  },
  {
   "cell_type": "code",
   "execution_count": 117,
   "metadata": {},
   "outputs": [],
   "source": [
    "def prepare_data(data, labels, num_classes, mask_val=0.01):\n",
    "    '''\n",
    "    num_classes: number of classes\n",
    "    '''\n",
    "    ordered_data = []\n",
    "    masks   = []\n",
    "    for ii in range(num_classes):\n",
    "        ind = np.where(labels==ii)[0]\n",
    "        d   = data[ind]\n",
    "        mask= np.where(np.var(d, axis=0)>0.)[0]\n",
    "        ordered_data+=[d[:,mask]]\n",
    "        masks+=[mask]\n",
    "    \n",
    "    return ordered_data, masks"
   ]
  },
  {
   "cell_type": "code",
   "execution_count": 118,
   "metadata": {},
   "outputs": [],
   "source": [
    "d_v, m_v = prepare_data(data=x_train,labels=targets_train, num_classes=num_classes)"
   ]
  },
  {
   "cell_type": "code",
   "execution_count": 119,
   "metadata": {},
   "outputs": [
    {
     "name": "stdout",
     "output_type": "stream",
     "text": [
      "(4932, 563)\n",
      "(5678, 577)\n",
      "(4968, 607)\n",
      "(5101, 581)\n",
      "(4859, 584)\n",
      "(4506, 578)\n",
      "(4951, 558)\n",
      "(5175, 577)\n",
      "(4842, 553)\n",
      "(4988, 545)\n"
     ]
    }
   ],
   "source": [
    "covs = []\n",
    "for ii, d in enumerate(d_v):\n",
    "    print(d.shape)\n",
    "    cov = CovarianceEstimator(mode='ML',label=ii)\n",
    "    cov.fit(d,m_v[ii])\n",
    "    cov.diag_decomp()\n",
    "    cov.pca(d)\n",
    "    filename = cov.save('../outputs/%s/covariance_estimator/'%input_data)\n",
    "    covs+=[cov]"
   ]
  },
  {
   "cell_type": "code",
   "execution_count": 120,
   "metadata": {},
   "outputs": [],
   "source": [
    "def get_log_prob(logdet,Cinv,data,mean):\n",
    "    d    = len(data)\n",
    "    data = data-mean\n",
    "    Cinv_d = np.einsum('jk,...k->...j',Cinv,data, optimize=True)\n",
    "\n",
    "    logprob = -0.5*logdet-0.5*d*np.log((2*np.pi))-0.5*np.einsum('ij,ij->i',data, Cinv_d, optimize=True)\n",
    "    return logprob"
   ]
  },
  {
   "cell_type": "code",
   "execution_count": 121,
   "metadata": {},
   "outputs": [],
   "source": [
    "def classify(data,labels,covs, num_classes, num):\n",
    "    acc = []\n",
    "    for jj in range(num_classes):\n",
    "        indices = np.where(labels==jj)[0]\n",
    "        dd      = data[indices]\n",
    "        logprob=[]\n",
    "        for ii,cov in enumerate(covs):\n",
    "            if num == dd.shape[1]:\n",
    "                Cinv    = cov.Cinv\n",
    "                logdetC = cov.logdetC\n",
    "            else:\n",
    "                Cinv, logdetC = get_covariance(cov.R,cov.vars,num)\n",
    "            d_      = dd[:,cov.mask]\n",
    "            logprob_= get_log_prob(logdetC,Cinv,d_,cov.mean)\n",
    "            logprob+=[logprob_]\n",
    "        acc+=[len(np.where(np.argsort(np.asarray(logprob),axis=0)[-1]==jj)[0])/len(dd)]\n",
    "    return np.asarray(acc)"
   ]
  },
  {
   "cell_type": "code",
   "execution_count": 122,
   "metadata": {},
   "outputs": [],
   "source": [
    "\n",
    "accuracy = classify(x_test,targets_test,covs, num_classes, num=200)"
   ]
  },
  {
   "cell_type": "code",
   "execution_count": 123,
   "metadata": {},
   "outputs": [
    {
     "data": {
      "text/plain": [
       "(array([ 0.96122449,  0.91894273,  0.97868217,  0.92178218,  0.95723014,\n",
       "         0.90919283,  0.91858038,  0.92898833,  0.82340862,  0.76808722]),\n",
       " array([ 0.96122449,  0.91894273,  0.97868217,  0.92178218,  0.95723014,\n",
       "         0.90919283,  0.91858038,  0.92898833,  0.82340862,  0.76808722]))"
      ]
     },
     "execution_count": 123,
     "metadata": {},
     "output_type": "execute_result"
    }
   ],
   "source": [
    "accuracy, logprob"
   ]
  },
  {
   "cell_type": "code",
   "execution_count": 124,
   "metadata": {},
   "outputs": [
    {
     "data": {
      "text/plain": [
       "array([ 0.,  0.,  0.,  0.,  0.,  0.,  0.,  0.,  0.,  0.])"
      ]
     },
     "execution_count": 124,
     "metadata": {},
     "output_type": "execute_result"
    }
   ],
   "source": [
    "accuracy-logprob"
   ]
  },
  {
   "cell_type": "code",
   "execution_count": null,
   "metadata": {},
   "outputs": [],
   "source": []
  }
 ],
 "metadata": {
  "kernelspec": {
   "display_name": "nersc",
   "language": "python",
   "name": "nersc-jupyterhub"
  },
  "language_info": {
   "codemirror_mode": {
    "name": "ipython",
    "version": 3
   },
   "file_extension": ".py",
   "mimetype": "text/x-python",
   "name": "python",
   "nbconvert_exporter": "python",
   "pygments_lexer": "ipython3",
   "version": "3.5.4"
  }
 },
 "nbformat": 4,
 "nbformat_minor": 2
}
