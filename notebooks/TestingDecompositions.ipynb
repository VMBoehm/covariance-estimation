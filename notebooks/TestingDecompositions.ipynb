{
 "cells": [
  {
   "cell_type": "code",
   "execution_count": 143,
   "metadata": {},
   "outputs": [],
   "source": [
    "import numpy as np\n",
    "import scipy.linalg as lg\n",
    "import numpy.linalg as nlg\n",
    "from sklearn.decomposition import PCA\n",
    "from sklearn.covariance import EmpiricalCovariance\n",
    "import matplotlib.pyplot as plt"
   ]
  },
  {
   "cell_type": "code",
   "execution_count": 6,
   "metadata": {},
   "outputs": [],
   "source": [
    "num_data = 100\n",
    "len_data = 10\n",
    "data = np.random.randn((len_data*num_data)).reshape(num_data, len_data)\n",
    "mean = np.mean(data,axis=0)"
   ]
  },
  {
   "cell_type": "code",
   "execution_count": 15,
   "metadata": {},
   "outputs": [
    {
     "name": "stdout",
     "output_type": "stream",
     "text": [
      "[[ 0.99  0.99  0.99  0.99  0.99  0.99  0.99  0.99  0.99  0.99]\n",
      " [ 0.99  0.99  0.99  0.99  0.99  0.99  0.99  0.99  0.99  0.99]\n",
      " [ 0.99  0.99  0.99  0.99  0.99  0.99  0.99  0.99  0.99  0.99]\n",
      " [ 0.99  0.99  0.99  0.99  0.99  0.99  0.99  0.99  0.99  0.99]\n",
      " [ 0.99  0.99  0.99  0.99  0.99  0.99  0.99  0.99  0.99  0.99]\n",
      " [ 0.99  0.99  0.99  0.99  0.99  0.99  0.99  0.99  0.99  0.99]\n",
      " [ 0.99  0.99  0.99  0.99  0.99  0.99  0.99  0.99  0.99  0.99]\n",
      " [ 0.99  0.99  0.99  0.99  0.99  0.99  0.99  0.99  0.99  0.99]\n",
      " [ 0.99  0.99  0.99  0.99  0.99  0.99  0.99  0.99  0.99  0.99]\n",
      " [ 0.99  0.99  0.99  0.99  0.99  0.99  0.99  0.99  0.99  0.99]]\n"
     ]
    }
   ],
   "source": [
    "cov1 = EmpiricalCovariance().fit(data).covariance_ # uses 1/N\n",
    "cov2 = np.dot((data-mean).T, (data-mean))/(num_data-1)\n",
    "print(cov1/cov2)"
   ]
  },
  {
   "cell_type": "code",
   "execution_count": 17,
   "metadata": {},
   "outputs": [
    {
     "name": "stdout",
     "output_type": "stream",
     "text": [
      "1.0\n",
      "1.0\n",
      "1.0\n",
      "1.0\n",
      "1.0\n",
      "1.0\n",
      "1.0\n"
     ]
    }
   ],
   "source": [
    "# PCA\n",
    "pca = PCA(svd_solver='full',n_components=len_data).fit(data) #covariance estimate with 1/(n-1)\n",
    "R   = pca.components_\n",
    "var = pca.explained_variance_\n",
    "np.mean(np.dot(np.dot(R.T,np.diag(var)),R)/cov2)\n",
    "\n",
    "# Eigenvalue\n",
    "var1, R1 = lg.eigh(cov2)\n",
    "index = np.argsort(var1)[::-1]\n",
    "print(np.mean(var1[index]/var))\n",
    "print(np.mean(np.dot(np.dot(R1,np.diag(var1)),R1.T)/cov2))\n",
    "R11 = R1.T[index]\n",
    "var11 = var1[index]\n",
    "print(np.mean(np.dot(np.dot(R11.T,np.diag(var1[index])),R11)/cov2))\n",
    "\n",
    "# SingularValue\n",
    "U, s, Vh = lg.svd(cov2)\n",
    "index = np.argsort(s)[::-1]\n",
    "s1    = s[index]\n",
    "print(np.mean(s1/var11))\n",
    "print(np.mean(np.dot(np.dot(U,np.diag(s)),Vh)/cov2))\n",
    "print(np.mean(np.dot(np.dot(U,np.diag(s)),U.T)/cov2))\n",
    "#with this, it agrees with pca convention\n",
    "V1 = Vh[index]\n",
    "print(np.mean(np.dot(np.dot(V1.T,np.diag(s)),V1)/cov2))"
   ]
  },
  {
   "cell_type": "code",
   "execution_count": 154,
   "metadata": {},
   "outputs": [],
   "source": [
    "from scipy.stats import ortho_group\n",
    "data_dim = 3\n",
    "data_num = 400"
   ]
  },
  {
   "cell_type": "code",
   "execution_count": 155,
   "metadata": {},
   "outputs": [
    {
     "name": "stdout",
     "output_type": "stream",
     "text": [
      "[[ 1.89765821  0.84859823  0.47647556]\n",
      " [ 0.84859823  1.89873835  0.14751619]\n",
      " [ 0.47647556  0.14751619  2.20360344]]\n",
      "[[ 0.72799847  0.20585977 -0.65394188]\n",
      " [-0.65322108  0.49786153 -0.57047009]\n",
      " [-0.20813566 -0.84246997 -0.49691437]] [[ 0.72799847  0.20585977 -0.65394188]\n",
      " [-0.65322108  0.49786153 -0.57047009]\n",
      " [-0.20813566 -0.84246997 -0.49691437]]\n"
     ]
    }
   ],
   "source": [
    "R   = ortho_group.rvs(data_dim)\n",
    "eig = np.arange((data_dim))+1\n",
    "cov = np.dot(np.dot(R.T,np.diag(eig)),R)\n",
    "print(cov)\n",
    "ind = np.where(cov is not 0.)\n",
    "#cov = (cov+cov.T)/2.\n",
    "#print(cov)\n",
    "print(R.T, lg.inv(R))"
   ]
  },
  {
   "cell_type": "code",
   "execution_count": 180,
   "metadata": {},
   "outputs": [
    {
     "name": "stdout",
     "output_type": "stream",
     "text": [
      "[ 3.  2.  1.]\n"
     ]
    },
    {
     "data": {
      "text/plain": [
       "0.999999999999999"
      ]
     },
     "execution_count": 180,
     "metadata": {},
     "output_type": "execute_result"
    }
   ],
   "source": [
    "U, s, Vh = lg.svd(cov)\n",
    "print(s)\n",
    "np.mean(np.dot(np.dot(U,np.diag(s)),Vh)[ind]/cov[ind])"
   ]
  },
  {
   "cell_type": "code",
   "execution_count": 179,
   "metadata": {},
   "outputs": [
    {
     "name": "stdout",
     "output_type": "stream",
     "text": [
      "[ 1.  2.  3.]\n"
     ]
    },
    {
     "data": {
      "text/plain": [
       "1.0000000000000004"
      ]
     },
     "execution_count": 179,
     "metadata": {},
     "output_type": "execute_result"
    }
   ],
   "source": [
    "v, w = lg.eigh(cov)\n",
    "Rw = w.T\n",
    "print(v)\n",
    "np.mean(np.dot(np.dot(Rw.T,np.diag(v)),Rw)[ind]/cov[ind])"
   ]
  },
  {
   "cell_type": "code",
   "execution_count": 172,
   "metadata": {},
   "outputs": [],
   "source": [
    "L = lg.cholesky(cov,lower=True)\n",
    "data = np.random.randn((data_dim*data_num)).reshape((data_num, data_dim))\n",
    "data = np.einsum('ij,kj->ki',L,data)\n",
    "data_= data-np.mean(data, axis=0)\n",
    "cov_esti = np.dot(data_.T, data_)/(data_num-1)"
   ]
  },
  {
   "cell_type": "code",
   "execution_count": 173,
   "metadata": {},
   "outputs": [
    {
     "data": {
      "image/png": "[encoded data removed]",
      "text/plain": [
       "<matplotlib.figure.Figure at 0x2aaadfc3f400>"
      ]
     },
     "metadata": {},
     "output_type": "display_data"
    },
    {
     "data": {
      "image/png": "[encoded data removed]",
      "text/plain": [
       "<matplotlib.figure.Figure at 0x2aaadfcb1a90>"
      ]
     },
     "metadata": {},
     "output_type": "display_data"
    }
   ],
   "source": [
    "plt.imshow(cov)\n",
    "plt.colorbar()\n",
    "plt.show()\n",
    "plt.imshow(cov_esti)\n",
    "plt.colorbar()\n",
    "plt.show()"
   ]
  },
  {
   "cell_type": "code",
   "execution_count": 254,
   "metadata": {},
   "outputs": [],
   "source": [
    "def create_Gaussian_data(eigs, means, dim, rand_state=42):\n",
    "    data_dim = len(eigs)\n",
    "    R    = ortho_group.rvs(data_dim,random_state=rand_state)\n",
    "    cov  = np.dot(np.dot(R.T,np.diag(eig)),R)\n",
    "    L    = lg.cholesky(cov,lower=True)\n",
    "    data = np.random.randn((data_dim*data_num)).reshape((data_num, data_dim))\n",
    "    data = np.einsum('ij,kj->ki',L,data)+means\n",
    "    return data, cov"
   ]
  },
  {
   "cell_type": "code",
   "execution_count": 255,
   "metadata": {},
   "outputs": [],
   "source": [
    "data, cov = create_Gaussian_data([1,2,3],[10,10,10],3)"
   ]
  },
  {
   "cell_type": "code",
   "execution_count": 256,
   "metadata": {},
   "outputs": [],
   "source": [
    "data_= data-np.mean(data, axis=0)\n",
    "cov_esti = np.dot(data_.T, data_)/(data_num-1)"
   ]
  },
  {
   "cell_type": "code",
   "execution_count": 257,
   "metadata": {},
   "outputs": [
    {
     "data": {
      "image/png": "[encoded data removed]",
      "text/plain": [
       "<matplotlib.figure.Figure at 0x2aaae6074630>"
      ]
     },
     "metadata": {},
     "output_type": "display_data"
    },
    {
     "data": {
      "image/png": "[encoded data removed]",
      "text/plain": [
       "<matplotlib.figure.Figure at 0x2aaae6092ac8>"
      ]
     },
     "metadata": {},
     "output_type": "display_data"
    }
   ],
   "source": [
    "plt.imshow(cov)\n",
    "plt.colorbar()\n",
    "plt.show()\n",
    "plt.imshow(cov_esti)\n",
    "plt.colorbar()\n",
    "plt.show()"
   ]
  },
  {
   "cell_type": "code",
   "execution_count": 270,
   "metadata": {},
   "outputs": [],
   "source": [
    "def nercome_estimator(data,split_frac):\n",
    "    diags   = []\n",
    "    Us      = []\n",
    "    nn      = len(data)\n",
    "    split   = np.int(split_frac*nn)\n",
    "    for ii in range(1):\n",
    "        np.random.shuffle(data)\n",
    "        data1 = data[0:split]\n",
    "        data2 = data[split::]\n",
    "        cov1          = EmpiricalCovariance().fit(X=data1).covariance_\n",
    "        w1,v1         = lg.eigh(cov1)\n",
    "        del cov1\n",
    "        cov2          = EmpiricalCovariance().fit(X=data2).covariance_\n",
    "        diags         +=[np.diag(np.dot(np.dot(v1.T,cov2),v1))]\n",
    "        del cov2\n",
    "        Us            +=[v1]\n",
    "        \n",
    "    return np.array(diags), np.array(Us)"
   ]
  },
  {
   "cell_type": "code",
   "execution_count": 274,
   "metadata": {},
   "outputs": [
    {
     "name": "stdout",
     "output_type": "stream",
     "text": [
      "0.33\n",
      "1.05198777663\n",
      "0.972630621346\n",
      "0.4\n",
      "1.00509992537\n",
      "1.06395177095\n",
      "0.45\n",
      "1.02074796484\n",
      "1.11964501777\n",
      "0.5\n",
      "0.990041153924\n",
      "1.10662490227\n",
      "0.55\n",
      "1.02019732444\n",
      "0.808987328451\n",
      "0.66\n",
      "0.870889056498\n",
      "0.829509798471\n",
      "0.7\n",
      "0.883938778211\n",
      "0.952136426145\n"
     ]
    }
   ],
   "source": [
    "for split in [0.33,0.4,0.45,0.5,0.55,0.66,0.7]:\n",
    "    diags, Us = nercome_estimator(data,split)\n",
    "    diag = np.mean(diags, axis=0)\n",
    "    U    = np.mean(Us, axis=0)\n",
    "    print(split)\n",
    "    print(np.mean(diag/[1,2,3]))\n",
    "    print(np.mean(np.dot(np.dot(U,np.diag(diag)),U.T)/cov))"
   ]
  },
  {
   "cell_type": "code",
   "execution_count": null,
   "metadata": {},
   "outputs": [],
   "source": []
  },
  {
   "cell_type": "code",
   "execution_count": 262,
   "metadata": {},
   "outputs": [
    {
     "name": "stdout",
     "output_type": "stream",
     "text": [
      "[[ 0.28600818  1.48122272 -0.36058041]\n",
      " [ 1.48122272  0.9463833   1.25518307]\n",
      " [-0.36058041  1.25518307  0.37376302]]\n",
      "[[ 0.77222313  0.05369084  0.27369052]\n",
      " [ 0.05369084  1.02011862 -0.3561377 ]\n",
      " [ 0.27369052 -0.3561377   0.11003472]]\n"
     ]
    }
   ],
   "source": []
  },
  {
   "cell_type": "code",
   "execution_count": 246,
   "metadata": {},
   "outputs": [
    {
     "name": "stdout",
     "output_type": "stream",
     "text": [
      "[[ 2.25210098  0.18063032 -0.93590794]\n",
      " [ 0.18063032  1.91953731  0.20421702]\n",
      " [-0.93590794  0.20421702  1.82836171]]\n"
     ]
    }
   ],
   "source": [
    "print(cov)"
   ]
  },
  {
   "cell_type": "code",
   "execution_count": null,
   "metadata": {},
   "outputs": [],
   "source": []
  }
 ],
 "metadata": {
  "kernelspec": {
   "display_name": "nersc",
   "language": "python",
   "name": "nersc-jupyterhub"
  },
  "language_info": {
   "codemirror_mode": {
    "name": "ipython",
    "version": 3
   },
   "file_extension": ".py",
   "mimetype": "text/x-python",
   "name": "python",
   "nbconvert_exporter": "python",
   "pygments_lexer": "ipython3",
   "version": "3.5.4"
  }
 },
 "nbformat": 4,
 "nbformat_minor": 2
}
