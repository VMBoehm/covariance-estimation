{
 "cells": [
  {
   "cell_type": "markdown",
   "metadata": {
    "colab_type": "text",
    "id": "view-in-github"
   },
   "source": [
    "<a href=\"https://colab.research.google.com/github/VMBoehm/pca-classifier/blob/master/ood_data_space_ML.ipynb\" target=\"_parent\"><img src=\"https://colab.research.google.com/assets/colab-badge.svg\" alt=\"Open In Colab\"/></a>"
   ]
  },
  {
   "cell_type": "code",
   "execution_count": 225,
   "metadata": {
    "colab": {
     "base_uri": "https://localhost:8080/",
     "height": 35
    },
    "colab_type": "code",
    "id": "GifoEEJNb-Q-",
    "outputId": "9a13b6a5-1369-474c-ccd9-3df1abd2915d"
   },
   "outputs": [
    {
     "name": "stdout",
     "output_type": "stream",
     "text": [
      "Populating the interactive namespace from numpy and matplotlib\n"
     ]
    },
    {
     "name": "stderr",
     "output_type": "stream",
     "text": [
      "/home/nessa/miniconda3/envs/pca-classifier/lib/python3.7/site-packages/IPython/core/magics/pylab.py:160: UserWarning: pylab import has clobbered these variables: ['copy']\n",
      "`%matplotlib` prevents importing * from pylab and numpy\n",
      "  \"\\n`%matplotlib` prevents importing * from pylab and numpy\"\n"
     ]
    }
   ],
   "source": [
    "%pylab inline\n",
    "import os\n",
    "import pickle\n",
    "from   sklearn import decomposition, covariance\n",
    "import numpy as np\n",
    "plt.rcParams.update({'font.family' : 'lmodern', 'font.size': 16,                                                                                                                                                    \n",
    "                     'axes.labelsize': 16, 'legend.fontsize': 12, \n",
    "                     'xtick.labelsize': 16, 'ytick.labelsize': 16, 'axes.titlesize': 16,\n",
    "                     'axes.linewidth': 1.5})"
   ]
  },
  {
   "cell_type": "markdown",
   "metadata": {
    "colab_type": "text",
    "id": "9mMgKfwFDad0"
   },
   "source": [
    "Let's do some outlier detection with linear data compression and a Gaussian likelihood!"
   ]
  },
  {
   "cell_type": "code",
   "execution_count": 226,
   "metadata": {
    "colab": {
     "base_uri": "https://localhost:8080/",
     "height": 249
    },
    "colab_type": "code",
    "id": "6GfjKfZlcLtR",
    "outputId": "b04392f4-712d-4020-9df0-228201baa25f"
   },
   "outputs": [
    {
     "name": "stdout",
     "output_type": "stream",
     "text": [
      "Collecting git+https://github.com/VMBoehm/pca-classifier\n",
      "  Cloning https://github.com/VMBoehm/pca-classifier to /tmp/pip-req-build-gpys26e2\n",
      "  Running command git clone -q https://github.com/VMBoehm/pca-classifier /tmp/pip-req-build-gpys26e2\n",
      "Requirement already satisfied (use --upgrade to upgrade): pca-classifier==0.1.dev52+g0ab2100 from git+https://github.com/VMBoehm/pca-classifier in /home/nessa/miniconda3/envs/tflow/lib/python3.7/site-packages\n",
      "Building wheels for collected packages: pca-classifier\n",
      "  Building wheel for pca-classifier (setup.py) ... \u001b[?25ldone\n",
      "\u001b[?25h  Created wheel for pca-classifier: filename=pca_classifier-0.1.dev52+g0ab2100-cp37-none-any.whl size=21591 sha256=f98e3036862651316f3fc14a191457c9676f741b9bf99a014c3feb5df3a405df\n",
      "  Stored in directory: /tmp/pip-ephem-wheel-cache-68snh1tu/wheels/b6/92/de/5e335df3a93aac71a83f93369b54139de22ab1656163dab574\n",
      "Successfully built pca-classifier\n"
     ]
    }
   ],
   "source": [
    "! pip install git+https://github.com/VMBoehm/pca-classifier"
   ]
  },
  {
   "cell_type": "code",
   "execution_count": 227,
   "metadata": {
    "colab": {},
    "colab_type": "code",
    "id": "5qErWLAzcWAK"
   },
   "outputs": [],
   "source": [
    "from pca_classifier import load_data, prepare_data"
   ]
  },
  {
   "cell_type": "code",
   "execution_count": 228,
   "metadata": {
    "colab": {},
    "colab_type": "code",
    "id": "I5s2h2nCdyYD"
   },
   "outputs": [],
   "source": [
    "mnist_data  = load_data.load_mnist('./')\n",
    "fmnist_data = load_data.load_fmnist('./')\n",
    "\n",
    "datasets={}\n",
    "datasets['fmnist']={}\n",
    "datasets['mnist']={}\n",
    "datasets['mnist']['train']  = mnist_data[0]\n",
    "datasets['fmnist']['train'] = fmnist_data[0]\n",
    "datasets['mnist']['test']   = mnist_data[2]\n",
    "datasets['fmnist']['test']  = fmnist_data[2]\n",
    "\n",
    "masked_datasets_train={}\n",
    "masked_datasets_test ={}\n",
    "masked_ood_datasets  ={}"
   ]
  },
  {
   "cell_type": "code",
   "execution_count": 229,
   "metadata": {
    "colab": {},
    "colab_type": "code",
    "id": "KWeJBW5jkug1"
   },
   "outputs": [
    {
     "name": "stdout",
     "output_type": "stream",
     "text": [
      "[]\n"
     ]
    }
   ],
   "source": [
    "#masked all pixels with a variance of<1e-8 in the train set\n",
    "ts = -0.1\n",
    "\n",
    "masked_datasets_train['mnist'], masked_in, masked_out  = prepare_data.mask_low_var_pixels(datasets['mnist']['train'],threshhold=ts)\n",
    "masked_datasets_train['fmnist'], _, _ = prepare_data.mask_low_var_pixels(datasets['fmnist']['train'],threshhold=ts)\n",
    "\n",
    "masked_datasets_test['mnist'], _, _  = prepare_data.mask_low_var_pixels(datasets['mnist']['test'],datasets['mnist']['train'],threshhold=ts)\n",
    "masked_datasets_test['fmnist'], _, _ = prepare_data.mask_low_var_pixels(datasets['fmnist']['test'],datasets['fmnist']['train'],threshhold=ts)\n",
    "\n",
    "#assume it's mnist, but it isn't\n",
    "masked_ood_datasets['mnist'],_ ,_  = prepare_data.mask_low_var_pixels(datasets['fmnist']['test'],datasets['mnist']['train'],threshhold=ts)\n",
    "#assume it's fmnist, but it isn't\n",
    "masked_ood_datasets['fmnist'],_ ,_ = prepare_data.mask_low_var_pixels(datasets['mnist']['test'],datasets['fmnist']['train'],threshhold=ts)\n",
    "print(masked_out)"
   ]
  },
  {
   "cell_type": "code",
   "execution_count": 230,
   "metadata": {},
   "outputs": [
    {
     "data": {
      "text/plain": [
       "(-0.5, 27.5, 27.5, -0.5)"
      ]
     },
     "execution_count": 230,
     "metadata": {},
     "output_type": "execute_result"
    },
    {
     "data": {
      "image/png": "[encoded data removed]",
      "text/plain": [
       "<Figure size 432x288 with 1 Axes>"
      ]
     },
     "metadata": {
      "needs_background": "light"
     },
     "output_type": "display_data"
    }
   ],
   "source": [
    "image = datasets['mnist']['train'][0]\n",
    "mask  = np.ones_like(image)\n",
    "mask[masked_in] = 0.\n",
    "from copy import copy\n",
    "palette = copy(plt.cm.gray)\n",
    "palette.set_over('r', 0.0)\n",
    "palette.set_under('green', 0.5)\n",
    "palette.set_bad('darkgreen', 1.0)\n",
    "ts = 1e-4\n",
    "_, _ , masked_out_2  = prepare_data.mask_low_var_pixels(datasets['mnist']['train'],threshhold=ts)\n",
    "# Alternatively, we could use\n",
    "# palette.set_bad(alpha = 0.0)\n",
    "# to make the bad region transparent.  This is the default.\n",
    "# If you comment out all the palette.set* lines, you will see\n",
    "# all the defaults; under and over will be colored with the\n",
    "# first and last colors in the palette, respectively.\n",
    "image[masked_out_2] = -0.5\n",
    "Zm = np.ma.masked_array(image,mask=mask)\n",
    "plt.imshow(Zm.reshape(28,28), cmap=palette, vmin=-0.1)\n",
    "plt.axis('off')\n",
    "#plt.savefig('../plots/variance_masked_mnist.png',bbox_inches='tight')"
   ]
  },
  {
   "cell_type": "code",
   "execution_count": 231,
   "metadata": {
    "colab": {
     "base_uri": "https://localhost:8080/",
     "height": 298
    },
    "colab_type": "code",
    "id": "xGALixBzfd6c",
    "outputId": "d4bf0a7f-32cc-4876-bcb6-78dde442fcd1"
   },
   "outputs": [],
   "source": [
    "#fit pcas to both datasets\n",
    "\n",
    "mnist_pcas=[]\n",
    "fmnist_pcas=[]\n",
    "recon_noise=[]\n",
    "\n",
    "for ii, nn in enumerate([8,-1]):\n",
    "    if nn ==-1:\n",
    "        nn=masked_datasets_train['mnist'].shape[-1]\n",
    "    mnist_pcas+=[decomposition.PCA(n_components=nn)]\n",
    "    mnist_pcas[ii].fit(masked_datasets_train['mnist'])\n",
    "\n",
    "for ii, nn in enumerate([8,-1]):\n",
    "    if nn ==-1:\n",
    "        nn=masked_datasets_train['fmnist'].shape[-1]\n",
    "    fmnist_pcas+=[decomposition.PCA(n_components=nn)]\n",
    "    fmnist_pcas[ii].fit(masked_datasets_train['fmnist'])\n",
    "\n"
   ]
  },
  {
   "cell_type": "code",
   "execution_count": 232,
   "metadata": {},
   "outputs": [
    {
     "data": {
      "image/png": "[encoded data removed]",
      "text/plain": [
       "<Figure size 432x288 with 1 Axes>"
      ]
     },
     "metadata": {
      "needs_background": "light"
     },
     "output_type": "display_data"
    }
   ],
   "source": [
    "# plot pca components:\n",
    "plt.figure(figsize=(12,4))\n",
    "plt.suptitle('explained variance ratio')\n",
    "plt.subplot(1,2,1)\n",
    "plt.semilogx(mnist_pcas[-1].explained_variance_ratio_,marker='o',ls='', label='mnist')\n",
    "plt.plot(fmnist_pcas[-1].explained_variance_ratio_,marker='+',ls='',label='fmnist')\n",
    "plt.legend()\n",
    "plt.close()\n",
    "plt.figure(figsize=(6,4))\n",
    "plt.title('Eigenvalue Analysis of Data Covariance')\n",
    "plt.loglog(mnist_pcas[-1].explained_variance_,marker='o',ls='', label='MNIST')\n",
    "plt.plot(fmnist_pcas[-1].explained_variance_,marker='+',ls='',label='Fashion-MNIST')\n",
    "plt.ylabel('Explained Variance')\n",
    "plt.xlabel('Component')\n",
    "plt.legend(fontsize=16)\n",
    "plt.savefig('../plots/eigenvalueAnalysis.png',bbox_inches='tight')\n",
    "plt.show()"
   ]
  },
  {
   "cell_type": "code",
   "execution_count": 233,
   "metadata": {
    "colab": {},
    "colab_type": "code",
    "id": "eFPQZin7fhOa"
   },
   "outputs": [],
   "source": [
    "from pca_classifier import estimate_covariance as cov_est"
   ]
  },
  {
   "cell_type": "markdown",
   "metadata": {
    "colab_type": "text",
    "id": "bBI4ZkvOc4yN"
   },
   "source": [
    "OOD in data space"
   ]
  },
  {
   "cell_type": "code",
   "execution_count": 234,
   "metadata": {
    "colab": {},
    "colab_type": "code",
    "id": "oQ8QKwCsfjwz"
   },
   "outputs": [],
   "source": [
    "covs  = {}\n",
    "means = {}\n",
    "for dataset in ['mnist','fmnist']:\n",
    "    covs[dataset] = cov_est.CovarianceEstimator(mode='ML')\n",
    "    covs[dataset].fit(masked_datasets_train[dataset],dataset)\n",
    "    covs[dataset].decompose()"
   ]
  },
  {
   "cell_type": "code",
   "execution_count": null,
   "metadata": {
    "colab": {},
    "colab_type": "code",
    "id": "857EF2_jpOYS"
   },
   "outputs": [],
   "source": [
    "\n"
   ]
  },
  {
   "cell_type": "code",
   "execution_count": 235,
   "metadata": {
    "colab": {},
    "colab_type": "code",
    "id": "Ty_JJJicOGeD"
   },
   "outputs": [],
   "source": [
    "from pca_classifier.classify import get_covariance, get_data_space_log_prob"
   ]
  },
  {
   "cell_type": "code",
   "execution_count": null,
   "metadata": {
    "colab": {},
    "colab_type": "code",
    "id": "W1lVjd9VxUX9"
   },
   "outputs": [],
   "source": []
  },
  {
   "cell_type": "markdown",
   "metadata": {
    "colab_type": "text",
    "id": "AXwikjafxWhQ"
   },
   "source": [
    "Use average of unexplained variances as noise estimate"
   ]
  },
  {
   "cell_type": "code",
   "execution_count": 236,
   "metadata": {
    "colab": {
     "base_uri": "https://localhost:8080/",
     "height": 231
    },
    "colab_type": "code",
    "id": "eVz7ZjbkxUnl",
    "outputId": "13b569ba-0d8b-42e0-d282-cf8a5da01a9f"
   },
   "outputs": [],
   "source": [
    "logprobs={}\n",
    "for dataset in ['mnist','fmnist']:\n",
    "    logprobs[dataset]={}\n",
    "    for n_comp in [8,-1]:\n",
    "        if n_comp==-1:\n",
    "            n_comp=len(masked_datasets_test[dataset][0,:])\n",
    "        N = np.diag((np.mean((covs[dataset].decompress(covs[dataset].compress(masked_datasets_train[dataset],n_comp))-masked_datasets_train[dataset])**2,axis=0)))\n",
    "        Cinv, logdetC = get_covariance(covs[dataset].R,covs[dataset].vars,n_comp)\n",
    "        logprobs[dataset][str(n_comp)] = get_data_space_log_prob(masked_datasets_test[dataset],logdetC,Cinv,covs[dataset].mean)"
   ]
  },
  {
   "cell_type": "code",
   "execution_count": 237,
   "metadata": {
    "colab": {
     "base_uri": "https://localhost:8080/",
     "height": 231
    },
    "colab_type": "code",
    "id": "XW83DnqKxUoD",
    "outputId": "853ebecd-bcfa-469a-c07d-332590a60c77"
   },
   "outputs": [],
   "source": [
    "logprobs_ood={}\n",
    "for dataset in ['mnist','fmnist']:\n",
    "    logprobs_ood[dataset]={}\n",
    "    for n_comp in [8,-1]:\n",
    "        if n_comp==-1:\n",
    "            n_comp=len(masked_ood_datasets[dataset][0,:])\n",
    "        N = np.diag((np.mean((covs[dataset].decompress(covs[dataset].compress(masked_datasets_train[dataset],n_comp))-masked_datasets_train[dataset])**2,axis=0)))\n",
    "        Cinv, logdetC = get_covariance(covs[dataset].R,covs[dataset].vars,n_comp)\n",
    "        logprobs_ood[dataset][str(n_comp)] = get_data_space_log_prob(masked_ood_datasets[dataset],logdetC,Cinv,covs[dataset].mean)"
   ]
  },
  {
   "cell_type": "code",
   "execution_count": 238,
   "metadata": {
    "colab": {
     "base_uri": "https://localhost:8080/",
     "height": 300
    },
    "colab_type": "code",
    "id": "LBDumsHTxUoM",
    "outputId": "d85e6134-81f5-45ea-97cd-b7c5d0e844d4"
   },
   "outputs": [
    {
     "data": {
      "image/png": "[encoded data removed]",
      "text/plain": [
       "<Figure size 432x288 with 1 Axes>"
      ]
     },
     "metadata": {
      "needs_background": "light"
     },
     "output_type": "display_data"
    }
   ],
   "source": [
    "colors = ['crimson','coral','navy','forestgreen']\n",
    "for dataset in ['mnist']:\n",
    "    plt.title('training dataset: %s'%dataset, fontsize=14)\n",
    "    ii=0\n",
    "    for n_comp in [-1,8]:\n",
    "        if n_comp==-1:\n",
    "            n_comp=masked_ood_datasets[dataset].shape[-1]\n",
    "        _, bins, _ = plt.hist(logprobs[dataset][str(n_comp)],bins=50,density=True, label='in distribution, n_comp=%d'%n_comp,color=colors[ii], range=(-18000,-7000),alpha=0.5)\n",
    "        ii+=1\n",
    "    ii=0\n",
    "    for n_comp in [-1,8]:\n",
    "        if n_comp==-1:\n",
    "            n_comp=masked_ood_datasets[dataset].shape[-1]\n",
    "        _ = plt.hist(logprobs_ood[dataset][str(n_comp)],histtype='step',bins=50,density=True,label='out of distribution, n_comp=%d'%n_comp, color=colors[ii], range=(-18000,-7000),lw=2)\n",
    "        ii+=1\n",
    "plt.legend()\n",
    "plt.xlabel('log p(x)',fontsize=14)\n",
    "plt.show()"
   ]
  },
  {
   "cell_type": "code",
   "execution_count": 239,
   "metadata": {
    "colab": {
     "base_uri": "https://localhost:8080/",
     "height": 300
    },
    "colab_type": "code",
    "id": "codOEMgPxUoV",
    "outputId": "a7589605-36a6-44b2-948c-a5a3dfbe7423"
   },
   "outputs": [
    {
     "data": {
      "image/png": "[encoded data removed]",
      "text/plain": [
       "<Figure size 432x288 with 1 Axes>"
      ]
     },
     "metadata": {
      "needs_background": "light"
     },
     "output_type": "display_data"
    }
   ],
   "source": [
    "colors = ['crimson','coral','navy','forestgreen']\n",
    "for dataset in ['fmnist']:\n",
    "    plt.title('training dataset: %s'%dataset, fontsize=16)\n",
    "    ii=0\n",
    "    for n_comp in [-1,8]:\n",
    "        if n_comp==-1:\n",
    "            n_comp=masked_ood_datasets[dataset].shape[-1]\n",
    "        _, bins, _ = plt.hist(logprobs[dataset][str(n_comp)],bins=50,density=True, label='in distribution, n_comp=%d'%n_comp,color=colors[ii], range=(-10000,-7000),alpha=0.5)\n",
    "        ii+=1\n",
    "    ii=0\n",
    "    for n_comp in [-1,8]:\n",
    "        if n_comp==-1:\n",
    "            n_comp=masked_ood_datasets[dataset].shape[-1]\n",
    "        _ = plt.hist(logprobs_ood[dataset][str(n_comp)],histtype='step',bins=50,density=True,label='out of distribution, n_comp=%d'%n_comp, color=colors[ii], range=(-10000,-7000),lw=2)\n",
    "        ii+=1\n",
    "plt.legend(loc='best',fontsize=16)\n",
    "plt.xlabel('log p(x)',fontsize=16)\n",
    "plt.savefig('../plots/ood_with_pca.png',bbox_inches='tight')\n",
    "plt.show()"
   ]
  },
  {
   "cell_type": "markdown",
   "metadata": {
    "colab_type": "text",
    "id": "Ii3mEvz-c_xi"
   },
   "source": [
    "OOD in compressed space"
   ]
  },
  {
   "cell_type": "code",
   "execution_count": 218,
   "metadata": {
    "colab": {},
    "colab_type": "code",
    "id": "9ODi0ivedDxk"
   },
   "outputs": [],
   "source": [
    "def get_comp_log_prob(d,cov,n_comp):\n",
    "    s = cov.compress(d,n_comp)\n",
    "    S = cov.vars[:n_comp]\n",
    "    S_inv = 1./S\n",
    "    logdetS = np.sum(np.log(S))\n",
    "    result = -0.5*(np.einsum('ij,j,ij->i',s,S_inv,s,optimize=True)+n_comp*np.log(2*np.pi)+logdetS)\n",
    "\n",
    "    return result"
   ]
  },
  {
   "cell_type": "code",
   "execution_count": 241,
   "metadata": {
    "colab": {},
    "colab_type": "code",
    "id": "pDEkywc_gnQg"
   },
   "outputs": [],
   "source": [
    "logprobs={}\n",
    "for dataset in ['mnist','fmnist']:\n",
    "    logprobs[dataset]={}\n",
    "    for n_comp in [16,32,64,128]:\n",
    "        if n_comp==-1:\n",
    "            n_comp=len(masked_datasets_test[dataset][0,:])\n",
    "        logprobs[dataset][str(n_comp)] = get_comp_log_prob(masked_datasets_test[dataset],covs[dataset],n_comp)"
   ]
  },
  {
   "cell_type": "code",
   "execution_count": 242,
   "metadata": {
    "colab": {},
    "colab_type": "code",
    "id": "b1l4fJwKgnRA"
   },
   "outputs": [],
   "source": [
    "logprobs_ood={}\n",
    "for dataset in ['mnist','fmnist']:\n",
    "    logprobs_ood[dataset]={}\n",
    "    for n_comp in [16,32,64,128]:\n",
    "        if n_comp==-1:\n",
    "              n_comp=len(masked_ood_datasets[dataset][0,:])\n",
    "        logprobs_ood[dataset][str(n_comp)] = get_comp_log_prob(masked_ood_datasets[dataset],covs[dataset],n_comp)"
   ]
  },
  {
   "cell_type": "code",
   "execution_count": 243,
   "metadata": {
    "colab": {
     "base_uri": "https://localhost:8080/",
     "height": 300
    },
    "colab_type": "code",
    "id": "g07_6909gnRI",
    "outputId": "74f93b58-02de-425b-dfa1-90cf63cff802"
   },
   "outputs": [
    {
     "data": {
      "image/png": "[encoded data removed]",
      "text/plain": [
       "<Figure size 432x288 with 1 Axes>"
      ]
     },
     "metadata": {
      "needs_background": "light"
     },
     "output_type": "display_data"
    }
   ],
   "source": [
    "colors = ['crimson','coral','navy']\n",
    "for dataset in ['mnist']:\n",
    "    plt.title('training dataset: %s'%dataset, fontsize=14)\n",
    "    ii=0\n",
    "    for n_comp in [128,64,16]:\n",
    "        if n_comp==-1:\n",
    "            n_comp=masked_ood_datasets[dataset].shape[-1]\n",
    "        _, bins, _ = plt.hist(logprobs[dataset][str(n_comp)],bins=50,density=True, label='in distribution, n_comp=%d'%n_comp,color=colors[ii],alpha=0.5)\n",
    "        ii+=1\n",
    "    ii=0\n",
    "    for n_comp in [128,64,16]:\n",
    "        if n_comp==-1:\n",
    "            n_comp=masked_ood_datasets[dataset].shape[-1]\n",
    "        _ = plt.hist(logprobs_ood[dataset][str(n_comp)],histtype='step',bins=50,density=True,label='out of distribution, n_comp=%d'%n_comp, color=colors[ii],lw=2)\n",
    "        ii+=1\n",
    "plt.legend()\n",
    "plt.xlabel('log p(z)',fontsize=14)\n",
    "plt.show()"
   ]
  },
  {
   "cell_type": "code",
   "execution_count": 244,
   "metadata": {
    "colab": {
     "base_uri": "https://localhost:8080/",
     "height": 300
    },
    "colab_type": "code",
    "id": "2B68HXGQgnRS",
    "outputId": "fab3e8dd-3d34-4b69-ee21-9ab03147d96b"
   },
   "outputs": [
    {
     "data": {
      "image/png": "[encoded data removed]",
      "text/plain": [
       "<Figure size 432x288 with 1 Axes>"
      ]
     },
     "metadata": {
      "needs_background": "light"
     },
     "output_type": "display_data"
    }
   ],
   "source": [
    "colors = ['crimson','coral','navy']\n",
    "for dataset in ['fmnist']:\n",
    "    plt.title('training dataset: %s'%dataset, fontsize=14)\n",
    "    ii=0\n",
    "    for n_comp in [128,64,16]:\n",
    "        if n_comp==-1:\n",
    "            n_comp=masked_ood_datasets[dataset].shape[-1]\n",
    "        _, bins, _ = plt.hist(logprobs[dataset][str(n_comp)],bins=50,density=True, label='in distribution, n_comp=%d'%n_comp,color=colors[ii],alpha=0.5)\n",
    "        ii+=1\n",
    "    ii=0\n",
    "    for n_comp in [128,64,16]:\n",
    "        if n_comp==-1:\n",
    "            n_comp=masked_ood_datasets[dataset].shape[-1]\n",
    "        _ = plt.hist(logprobs_ood[dataset][str(n_comp)],histtype='step',bins=50,density=True,label='out of distribution, n_comp=%d'%n_comp, color=colors[ii],lw=2)\n",
    "        ii+=1\n",
    "plt.legend()\n",
    "plt.xlabel('log p(z)',fontsize=14)\n",
    "plt.show()"
   ]
  },
  {
   "cell_type": "code",
   "execution_count": null,
   "metadata": {
    "colab": {},
    "colab_type": "code",
    "id": "cJuCkFfKjqM7"
   },
   "outputs": [],
   "source": []
  },
  {
   "cell_type": "code",
   "execution_count": null,
   "metadata": {},
   "outputs": [],
   "source": []
  }
 ],
 "metadata": {
  "colab": {
   "collapsed_sections": [],
   "include_colab_link": true,
   "name": "ood_data-space_ML.ipynb",
   "provenance": []
  },
  "kernelspec": {
   "display_name": "PCA-Classifier",
   "language": "python",
   "name": "pca-classifier"
  },
  "language_info": {
   "codemirror_mode": {
    "name": "ipython",
    "version": 3
   },
   "file_extension": ".py",
   "mimetype": "text/x-python",
   "name": "python",
   "nbconvert_exporter": "python",
   "pygments_lexer": "ipython3",
   "version": "3.7.5"
  }
 },
 "nbformat": 4,
 "nbformat_minor": 1
}
