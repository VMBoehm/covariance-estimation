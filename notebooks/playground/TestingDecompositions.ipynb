{
 "cells": [
  {
   "cell_type": "code",
   "execution_count": 143,
   "metadata": {},
   "outputs": [],
   "source": [
    "import numpy as np\n",
    "import scipy.linalg as lg\n",
    "import numpy.linalg as nlg\n",
    "from sklearn.decomposition import PCA\n",
    "from sklearn.covariance import EmpiricalCovariance\n",
    "import matplotlib.pyplot as plt"
   ]
  },
  {
   "cell_type": "code",
   "execution_count": 6,
   "metadata": {},
   "outputs": [],
   "source": [
    "num_data = 100\n",
    "len_data = 10\n",
    "data = np.random.randn((len_data*num_data)).reshape(num_data, len_data)\n",
    "mean = np.mean(data,axis=0)"
   ]
  },
  {
   "cell_type": "code",
   "execution_count": 15,
   "metadata": {},
   "outputs": [
    {
     "name": "stdout",
     "output_type": "stream",
     "text": [
      "[[ 0.99  0.99  0.99  0.99  0.99  0.99  0.99  0.99  0.99  0.99]\n",
      " [ 0.99  0.99  0.99  0.99  0.99  0.99  0.99  0.99  0.99  0.99]\n",
      " [ 0.99  0.99  0.99  0.99  0.99  0.99  0.99  0.99  0.99  0.99]\n",
      " [ 0.99  0.99  0.99  0.99  0.99  0.99  0.99  0.99  0.99  0.99]\n",
      " [ 0.99  0.99  0.99  0.99  0.99  0.99  0.99  0.99  0.99  0.99]\n",
      " [ 0.99  0.99  0.99  0.99  0.99  0.99  0.99  0.99  0.99  0.99]\n",
      " [ 0.99  0.99  0.99  0.99  0.99  0.99  0.99  0.99  0.99  0.99]\n",
      " [ 0.99  0.99  0.99  0.99  0.99  0.99  0.99  0.99  0.99  0.99]\n",
      " [ 0.99  0.99  0.99  0.99  0.99  0.99  0.99  0.99  0.99  0.99]\n",
      " [ 0.99  0.99  0.99  0.99  0.99  0.99  0.99  0.99  0.99  0.99]]\n"
     ]
    }
   ],
   "source": [
    "cov1 = EmpiricalCovariance().fit(data).covariance_ # uses 1/N\n",
    "cov2 = np.dot((data-mean).T, (data-mean))/(num_data-1)\n",
    "print(cov1/cov2)"
   ]
  },
  {
   "cell_type": "code",
   "execution_count": 17,
   "metadata": {},
   "outputs": [
    {
     "name": "stdout",
     "output_type": "stream",
     "text": [
      "1.0\n",
      "1.0\n",
      "1.0\n",
      "1.0\n",
      "1.0\n",
      "1.0\n",
      "1.0\n"
     ]
    }
   ],
   "source": [
    "# PCA\n",
    "pca = PCA(svd_solver='full',n_components=len_data).fit(data) #covariance estimate with 1/(n-1)\n",
    "R   = pca.components_\n",
    "var = pca.explained_variance_\n",
    "np.mean(np.dot(np.dot(R.T,np.diag(var)),R)/cov2)\n",
    "\n",
    "# Eigenvalue\n",
    "var1, R1 = lg.eigh(cov2)\n",
    "index = np.argsort(var1)[::-1]\n",
    "print(np.mean(var1[index]/var))\n",
    "print(np.mean(np.dot(np.dot(R1,np.diag(var1)),R1.T)/cov2))\n",
    "R11 = R1.T[index]\n",
    "var11 = var1[index]\n",
    "print(np.mean(np.dot(np.dot(R11.T,np.diag(var1[index])),R11)/cov2))\n",
    "\n",
    "# SingularValue\n",
    "U, s, Vh = lg.svd(cov2)\n",
    "index = np.argsort(s)[::-1]\n",
    "s1    = s[index]\n",
    "print(np.mean(s1/var11))\n",
    "print(np.mean(np.dot(np.dot(U,np.diag(s)),Vh)/cov2))\n",
    "print(np.mean(np.dot(np.dot(U,np.diag(s)),U.T)/cov2))\n",
    "#with this, it agrees with pca convention\n",
    "V1 = Vh[index]\n",
    "print(np.mean(np.dot(np.dot(V1.T,np.diag(s)),V1)/cov2))"
   ]
  },
  {
   "cell_type": "code",
   "execution_count": 154,
   "metadata": {},
   "outputs": [],
   "source": [
    "from scipy.stats import ortho_group\n",
    "data_dim = 3\n",
    "data_num = 400"
   ]
  },
  {
   "cell_type": "code",
   "execution_count": 155,
   "metadata": {},
   "outputs": [
    {
     "name": "stdout",
     "output_type": "stream",
     "text": [
      "[[ 1.89765821  0.84859823  0.47647556]\n",
      " [ 0.84859823  1.89873835  0.14751619]\n",
      " [ 0.47647556  0.14751619  2.20360344]]\n",
      "[[ 0.72799847  0.20585977 -0.65394188]\n",
      " [-0.65322108  0.49786153 -0.57047009]\n",
      " [-0.20813566 -0.84246997 -0.49691437]] [[ 0.72799847  0.20585977 -0.65394188]\n",
      " [-0.65322108  0.49786153 -0.57047009]\n",
      " [-0.20813566 -0.84246997 -0.49691437]]\n"
     ]
    }
   ],
   "source": [
    "R   = ortho_group.rvs(data_dim)\n",
    "eig = np.arange((data_dim))+1\n",
    "cov = np.dot(np.dot(R.T,np.diag(eig)),R)\n",
    "print(cov)\n",
    "ind = np.where(cov is not 0.)\n",
    "#cov = (cov+cov.T)/2.\n",
    "#print(cov)\n",
    "print(R.T, lg.inv(R))"
   ]
  },
  {
   "cell_type": "code",
   "execution_count": 180,
   "metadata": {},
   "outputs": [
    {
     "name": "stdout",
     "output_type": "stream",
     "text": [
      "[ 3.  2.  1.]\n"
     ]
    },
    {
     "data": {
      "text/plain": [
       "0.999999999999999"
      ]
     },
     "execution_count": 180,
     "metadata": {},
     "output_type": "execute_result"
    }
   ],
   "source": [
    "U, s, Vh = lg.svd(cov)\n",
    "print(s)\n",
    "np.mean(np.dot(np.dot(U,np.diag(s)),Vh)[ind]/cov[ind])"
   ]
  },
  {
   "cell_type": "code",
   "execution_count": 179,
   "metadata": {},
   "outputs": [
    {
     "name": "stdout",
     "output_type": "stream",
     "text": [
      "[ 1.  2.  3.]\n"
     ]
    },
    {
     "data": {
      "text/plain": [
       "1.0000000000000004"
      ]
     },
     "execution_count": 179,
     "metadata": {},
     "output_type": "execute_result"
    }
   ],
   "source": [
    "v, w = lg.eigh(cov)\n",
    "Rw = w.T\n",
    "print(v)\n",
    "np.mean(np.dot(np.dot(Rw.T,np.diag(v)),Rw)[ind]/cov[ind])"
   ]
  },
  {
   "cell_type": "code",
   "execution_count": 172,
   "metadata": {},
   "outputs": [],
   "source": [
    "L = lg.cholesky(cov,lower=True)\n",
    "data = np.random.randn((data_dim*data_num)).reshape((data_num, data_dim))\n",
    "data = np.einsum('ij,kj->ki',L,data)\n",
    "data_= data-np.mean(data, axis=0)\n",
    "cov_esti = np.dot(data_.T, data_)/(data_num-1)"
   ]
  },
  {
   "cell_type": "code",
   "execution_count": 173,
   "metadata": {},
   "outputs": [
    {
     "data": {
      "image/png": "[encoded data removed]",
      "text/plain": [
       "<matplotlib.figure.Figure at 0x2aaadfc3f400>"
      ]
     },
     "metadata": {},
     "output_type": "display_data"
    },
    {
     "data": {
      "image/png": "[encoded data removed]",
      "text/plain": [
       "<matplotlib.figure.Figure at 0x2aaadfcb1a90>"
      ]
     },
     "metadata": {},
     "output_type": "display_data"
    }
   ],
   "source": [
    "plt.imshow(cov)\n",
    "plt.colorbar()\n",
    "plt.show()\n",
    "plt.imshow(cov_esti)\n",
    "plt.colorbar()\n",
    "plt.show()"
   ]
  },
  {
   "cell_type": "code",
   "execution_count": 506,
   "metadata": {},
   "outputs": [],
   "source": [
    "def create_Gaussian_data(eigs, means, data_num, rand_state=4108):\n",
    "    data_dim = len(eigs)\n",
    "    R    = ortho_group.rvs(data_dim,random_state=rand_state)\n",
    "    cov  = np.dot(np.dot(R,np.diag(eigs)),R.T)\n",
    "    L    = lg.cholesky(cov,lower=True)\n",
    "    data = np.random.randn((data_dim*data_num)).reshape((data_num, data_dim))\n",
    "    data = np.einsum('ij,kj->ki',L,data)+means\n",
    "    return data, cov"
   ]
  },
  {
   "cell_type": "code",
   "execution_count": 507,
   "metadata": {},
   "outputs": [
    {
     "name": "stdout",
     "output_type": "stream",
     "text": [
      "[  7.91095017   8.16912199   8.20643278   8.26944111   8.56820411\n",
      "   9.17152577   9.42295837  10.04526724  10.06449623  10.65979408\n",
      "  11.35814594  11.44841191  11.49357145  11.68097966  11.7710439\n",
      "  11.91918807  11.9784667   12.00485155  12.08479449  13.77235447] [ 1  2  3  4  5  6  7  8  9 10 11 12 13 14 15 16 17 18 19 20]\n"
     ]
    }
   ],
   "source": [
    "data_num  = 100\n",
    "data_dim  = 20\n",
    "data, cov = create_Gaussian_data(eigs=np.arange(data_dim)+1,means=np.ones(data_dim)*10.,data_num=data_num)\n",
    "print(np.sort(np.diag(cov)),np.arange(data_dim)+1)"
   ]
  },
  {
   "cell_type": "code",
   "execution_count": 508,
   "metadata": {},
   "outputs": [],
   "source": [
    "data_    = data-np.mean(data, axis=0)\n",
    "cov_esti = np.dot(data_.T, data_)/(data_num-1)"
   ]
  },
  {
   "cell_type": "code",
   "execution_count": null,
   "metadata": {},
   "outputs": [],
   "source": []
  },
  {
   "cell_type": "code",
   "execution_count": 509,
   "metadata": {},
   "outputs": [],
   "source": [
    "import os\n",
    "import pickle as pkl\n",
    "def nercome_estimator(data,resultpath,splits=None,num_esti=None):\n",
    "    if not os.path.exists(resultpath):\n",
    "        os.makedirs(resultpath)\n",
    "    \n",
    "    nn      = len(data)\n",
    "    ddim    = data.shape[1]\n",
    "    if splits== None:\n",
    "        splits = [0.33,0.4,0.45,0.5,0.55,0.66,0.7,0.75,0.8]\n",
    "    if num_esti== None:\n",
    "        num_esti  = min(nn//1,400)\n",
    "\n",
    "    minQs      = -1\n",
    "    best_split = 0.\n",
    "    best_esti  = np.zeros((data_dim,data_dim))\n",
    "    for split_frac in splits:\n",
    "        print('nercome estimation with split %.2f, #samples %d'%(split_frac,num_esti))\n",
    "        split    = np.int(split_frac*nn)\n",
    "        cov      = np.zeros((ddim,ddim))\n",
    "        cov_esti = np.zeros((ddim,ddim))\n",
    "        for ii in range(num_esti):\n",
    "            np.random.shuffle(data)\n",
    "            data1 = data[0:split]\n",
    "            data2 = data[split::]\n",
    "            cov1     = EmpiricalCovariance().fit(data1).covariance_\n",
    "            w1,v1    = lg.eigh(cov1)\n",
    "            del cov1, w1\n",
    "            cov2     = EmpiricalCovariance().fit(data2).covariance_\n",
    "            diags    = np.diag(np.dot(np.dot(v1.T,cov2),v1))\n",
    "            esti     = np.dot(np.dot(v1,np.diag(diags)),v1.T)\n",
    "            cov+=cov2/num_esti\n",
    "            del cov2\n",
    "            cov_esti+=esti/num_esti\n",
    "\n",
    "        Q = dist(cov_esti, cov)\n",
    "        print(Q)\n",
    "        if minQs==-1 or Q<minQs:\n",
    "            minQs=Q\n",
    "            best_split=split_frac\n",
    "            best_esti= cov_esti\n",
    "            pkl.dump([best_split,cov_esti], open(os.path.join(resultpath,'nercome_estimate.pkl'),'wb'))\n",
    "    \n",
    "    return best_split, best_esti"
   ]
  },
  {
   "cell_type": "code",
   "execution_count": 510,
   "metadata": {},
   "outputs": [
    {
     "name": "stdout",
     "output_type": "stream",
     "text": [
      "(100, 20)\n",
      "nercome estimation with split 0.33, #samples 100\n",
      "408.556668066\n",
      "nercome estimation with split 0.40, #samples 100\n",
      "380.190616297\n",
      "nercome estimation with split 0.45, #samples 100\n",
      "356.181948215\n",
      "nercome estimation with split 0.50, #samples 100\n",
      "321.06549773\n",
      "nercome estimation with split 0.55, #samples 100\n",
      "318.348931515\n",
      "nercome estimation with split 0.66, #samples 100\n",
      "271.305459058\n",
      "nercome estimation with split 0.70, #samples 100\n",
      "285.164518255\n",
      "nercome estimation with split 0.75, #samples 100\n",
      "273.714247052\n",
      "nercome estimation with split 0.80, #samples 100\n",
      "268.055405913\n",
      "0.8\n"
     ]
    }
   ],
   "source": [
    "best_split, best_esti = nercome_estimator(data,resultpath='../outputs/tests/',splits=None,num_esti=None)"
   ]
  },
  {
   "cell_type": "code",
   "execution_count": 511,
   "metadata": {},
   "outputs": [],
   "source": [
    "def dist(cov1,cov2):\n",
    "    A = cov1-cov2\n",
    "    dist = np.trace(np.dot(A,A.T))\n",
    "    return dist"
   ]
  },
  {
   "cell_type": "code",
   "execution_count": 514,
   "metadata": {},
   "outputs": [
    {
     "name": "stdout",
     "output_type": "stream",
     "text": [
      "distance to empirical cov 508.273879133\n",
      "distance to nercome cov 262.144329578\n"
     ]
    }
   ],
   "source": [
    "print('distance to empirical cov', dist(cov_esti,cov))\n",
    "print('distance to nercome cov', dist(best_esti,cov))"
   ]
  },
  {
   "cell_type": "code",
   "execution_count": null,
   "metadata": {},
   "outputs": [],
   "source": []
  },
  {
   "cell_type": "code",
   "execution_count": 516,
   "metadata": {},
   "outputs": [
    {
     "data": {
      "image/png": "[encoded data removed]",
      "text/plain": [
       "<matplotlib.figure.Figure at 0x2aaae5f83b38>"
      ]
     },
     "metadata": {},
     "output_type": "display_data"
    },
    {
     "data": {
      "image/png": "[encoded data removed]",
      "text/plain": [
       "<matplotlib.figure.Figure at 0x2aaade0277b8>"
      ]
     },
     "metadata": {},
     "output_type": "display_data"
    },
    {
     "data": {
      "image/png": "[encoded data removed]",
      "text/plain": [
       "<matplotlib.figure.Figure at 0x2aaade077fd0>"
      ]
     },
     "metadata": {},
     "output_type": "display_data"
    }
   ],
   "source": [
    "vmin = min(cov.flatten())\n",
    "vmax = max(cov.flatten())\n",
    "plt.title('true covariance')\n",
    "plt.imshow(cov,vmin=vmin,vmax=vmax)\n",
    "plt.colorbar()\n",
    "plt.show()\n",
    "plt.title('empirical ML estimate')\n",
    "plt.imshow(cov_esti,vmin=vmin,vmax=vmax)\n",
    "plt.colorbar()\n",
    "plt.show()\n",
    "plt.title('nercome estimate')\n",
    "plt.imshow(best_esti,vmin=vmin,vmax=vmax)\n",
    "plt.colorbar()\n",
    "plt.show()"
   ]
  },
  {
   "cell_type": "code",
   "execution_count": null,
   "metadata": {},
   "outputs": [],
   "source": [
    "def create_Gaussian_data(eigs, means, data_num, rand_state=4108):\n",
    "    data_dim = len(eigs)\n",
    "    R    = ortho_group.rvs(data_dim,random_state=rand_state)\n",
    "    cov  = np.dot(np.dot(R,np.diag(eigs)),R.T)\n",
    "    L    = lg.cholesky(cov,lower=True)\n",
    "    data = np.random.randn((data_dim*data_num)).reshape((data_num, data_dim))\n",
    "    data = np.einsum('ij,kj->ki',L,data)+means\n",
    "    return data, cov\n",
    "\n"
   ]
  }
 ],
 "metadata": {
  "kernelspec": {
   "display_name": "nersc",
   "language": "python",
   "name": "nersc-jupyterhub"
  },
  "language_info": {
   "codemirror_mode": {
    "name": "ipython",
    "version": 3
   },
   "file_extension": ".py",
   "mimetype": "text/x-python",
   "name": "python",
   "nbconvert_exporter": "python",
   "pygments_lexer": "ipython3",
   "version": "3.5.4"
  }
 },
 "nbformat": 4,
 "nbformat_minor": 2
}
